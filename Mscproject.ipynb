{
 "cells": [
  {
   "cell_type": "code",
   "execution_count": null,
   "id": "a2c1c89b-812e-41b3-88c6-915fe9667bc9",
   "metadata": {},
   "outputs": [],
   "source": [
    "import numpy as np\n",
    "import pandas as pd\n",
    "import matplotlib.pyplot as plt\n",
    "\n",
    "from mscproject.simulation.fba_model import FBAModel\n",
    "from mscproject.simulation.tfa_model import TFAModel\n",
    "from mscproject.simulation.etfl_model import ETFLModel"
   ]
  },
  {
   "cell_type": "code",
   "execution_count": null,
   "id": "d0cf1c3c-762f-45b1-9f88-6eef8e2f1c7f",
   "metadata": {},
   "outputs": [],
   "source": [
    "def plot_glc_uptakes(conditions, model_code='ecoli:iJO1366', tfa=False, etfl=False):\n",
    "    fba_model = FBAModel(model_code=model_code, min_biomass=0.1)\n",
    "    \n",
    "    fba_df = fba_model.solve(conditions=conditions)\n",
    "    fba_biomass = fba_df.loc[fba_model.biomass_reaction, fba_df.columns != 'control']\n",
    "    fba_netflux = fba_df.loc['net_flux', fba_df.columns != 'control']\n",
    "    \n",
    "    pfba_df = fba_model.solve(conditions=conditions, alg='pfba')\n",
    "    pfba_biomass = pfba_df.loc[fba_model.biomass_reaction, pfba_df.columns != 'control']\n",
    "    pfba_netflux = pfba_df.loc['net_flux', pfba_df.columns != 'control']\n",
    "\n",
    "    if tfa:\n",
    "        tfa_model = TFAModel(model_code=model_code, min_biomass=0.1)\n",
    "        \n",
    "        tfa_df = tfa_model.solve(conditions=conditions)\n",
    "        tfa_biomass = tfa_df.loc[tfa_model.biomass_reaction, tfa_df.columns != 'control']\n",
    "        tfa_netflux = tfa_df.loc['net_flux', tfa_df.columns != 'control']\n",
    "        \n",
    "        ptfa_df = tfa_model.solve(conditions=conditions, alg='pfba')\n",
    "        ptfa_biomass = ptfa_df.loc[tfa_model.biomass_reaction, ptfa_df.columns != 'control']\n",
    "        ptfa_netflux = ptfa_df.loc['net_flux', ptfa_df.columns != 'control']\n",
    "    \n",
    "    if etfl:\n",
    "        etfl_model = ETFLModel(model_code=model_code, min_biomass=0.1)\n",
    "        \n",
    "        etfl_df = etfl_model.solve(conditions=conditions)\n",
    "        etfl_biomass = etfl_df.loc[etfl_model.biomass_reaction, etfl_df.columns != 'control']\n",
    "        etfl_netflux = etfl_df.loc['net_flux', etfl_df.columns != 'control']\n",
    "        \n",
    "        petfl_df = etfl_model.solve(conditions=conditions, alg='pfba')\n",
    "        petfl_biomass = petfl_df.loc[etfl_model.biomass_reaction, petfl_df.columns != 'control']\n",
    "        petfl_netflux = petfl_df.loc['net_flux', petfl_df.columns != 'control']\n",
    "    \n",
    "    x = conditions.iloc[:, 1]\n",
    "    f, ax = plt.subplots(2, 2, figsize=(10, 10), dpi=100)\n",
    "    ax[0][0].set_title(model_code.split(':')[1] + ' FBA')\n",
    "    ax[0][0].set_ylabel(\"Biomass\")\n",
    "    ax[0][0].set_xlabel(\"Glucose uptake\")\n",
    "    ax[0][0].plot(x, fba_biomass, label=\"FBA\")\n",
    "    if tfa:\n",
    "        ax[0][0].plot(x, tfa_biomass, label=\"TFA\")\n",
    "    if etfl:\n",
    "        ax[0][0].plot(x, etfl_biomass, label=\"ETFL\")\n",
    "    ax[0][0].legend()\n",
    "    \n",
    "    ax[0][1].set_title(model_code.split(':')[1] + ' FBA')\n",
    "    ax[0][1].set_ylabel(\"Net flux\")\n",
    "    ax[0][1].set_xlabel(\"Glucose uptake\")\n",
    "    ax[0][1].plot(x, fba_netflux, label=\"FBA\")\n",
    "    if tfa:\n",
    "        ax[0][1].plot(x, tfa_netflux, label=\"TFA\")\n",
    "    if etfl:\n",
    "        ax[0][1].plot(x, etfl_netflux, label=\"ETFL\")\n",
    "    ax[0][1].legend()\n",
    "    \n",
    "    ax[1][0].set_title(model_code.split(':')[1] + ' pFBA')\n",
    "    ax[1][0].set_ylabel(\"Biomass\")\n",
    "    ax[1][0].set_xlabel(\"Glucose uptake\")\n",
    "    ax[1][0].plot(x, pfba_biomass, label=\"pFBA\")\n",
    "    if tfa:\n",
    "        ax[1][0].plot(x, ptfa_biomass, label=\"pTFA\")\n",
    "    if etfl:\n",
    "        ax[1][0].plot(x, petfl_biomass, label=\"pETFL\")\n",
    "    ax[1][0].legend()\n",
    "    \n",
    "    ax[1][1].set_title(model_code.split(':')[1] + ' pFBA')\n",
    "    ax[1][1].set_ylabel(\"Net flux\")\n",
    "    ax[1][1].set_xlabel(\"Glucose uptake\")\n",
    "    ax[1][1].plot(x, pfba_netflux, label=\"pFBA\")\n",
    "    if tfa:\n",
    "        ax[1][1].plot(x, ptfa_netflux, label=\"pTFA\")\n",
    "    if etfl:\n",
    "        ax[1][1].plot(x, petfl_netflux, label=\"pETFL\")\n",
    "    ax[1][1].legend()\n",
    "    plt.show()"
   ]
  },
  {
   "cell_type": "code",
   "execution_count": null,
   "id": "c0479f66-4ef3-45ef-9a92-0c5dca629cb1",
   "metadata": {},
   "outputs": [],
   "source": [
    "conditions = pd.read_csv('tests/glc_uptakes.csv')"
   ]
  },
  {
   "cell_type": "code",
   "execution_count": null,
   "id": "9e2d1862-adea-4d40-ba2d-54bd68e017bd",
   "metadata": {},
   "outputs": [],
   "source": [
    "plot_glc_uptakes(conditions=conditions, tfa=True)"
   ]
  },
  {
   "cell_type": "code",
   "execution_count": null,
   "id": "bd052d05-0aba-400e-b549-be0f8e8661b8",
   "metadata": {},
   "outputs": [],
   "source": [
    "plot_glc_uptakes(conditions=conditions, tfa=True, etfl=True)\n",
    "plot_glc_uptakes(model_code='ecoli:iML1515', conditions=conditions, tfa=True, etfl=True)"
   ]
  }
 ],
 "metadata": {
  "kernelspec": {
   "display_name": "Python 3",
   "language": "python",
   "name": "python3"
  },
  "language_info": {
   "codemirror_mode": {
    "name": "ipython",
    "version": 3
   },
   "file_extension": ".py",
   "mimetype": "text/x-python",
   "name": "python",
   "nbconvert_exporter": "python",
   "pygments_lexer": "ipython3",
   "version": "3.8.8"
  }
 },
 "nbformat": 4,
 "nbformat_minor": 5
}
